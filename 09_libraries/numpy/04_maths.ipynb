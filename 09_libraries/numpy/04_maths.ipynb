{
 "cells": [
  {
   "cell_type": "code",
   "execution_count": 1,
   "id": "1edcb0b4",
   "metadata": {},
   "outputs": [],
   "source": [
    "import numpy as np"
   ]
  },
  {
   "cell_type": "markdown",
   "id": "7d638669",
   "metadata": {},
   "source": [
    "# Basic mathematics with numpy"
   ]
  },
  {
   "cell_type": "code",
   "execution_count": 2,
   "id": "9c9dfbc2",
   "metadata": {},
   "outputs": [],
   "source": [
    "a = np.array([1,2,3,4])\n",
    "b = np.array([10,20,30,40])"
   ]
  },
  {
   "cell_type": "code",
   "execution_count": 3,
   "id": "22be1b4a",
   "metadata": {},
   "outputs": [
    {
     "name": "stdout",
     "output_type": "stream",
     "text": [
      "[3 4 5 6]\n"
     ]
    }
   ],
   "source": [
    "a += 2\n",
    "print(a)"
   ]
  },
  {
   "cell_type": "code",
   "execution_count": 5,
   "id": "2df9a0f3",
   "metadata": {},
   "outputs": [
    {
     "name": "stdout",
     "output_type": "stream",
     "text": [
      "[1.5 2.  2.5 3. ]\n"
     ]
    }
   ],
   "source": [
    "ab = a / 2\n",
    "print(ab)"
   ]
  },
  {
   "cell_type": "code",
   "execution_count": 6,
   "id": "f342ad3e",
   "metadata": {},
   "outputs": [
    {
     "name": "stdout",
     "output_type": "stream",
     "text": [
      "[13 24 35 46]\n"
     ]
    }
   ],
   "source": [
    "c = a + b\n",
    "print(c)"
   ]
  },
  {
   "cell_type": "code",
   "execution_count": 7,
   "id": "a47f5ac7",
   "metadata": {},
   "outputs": [
    {
     "name": "stdout",
     "output_type": "stream",
     "text": [
      "[ 169  576 1225 2116]\n"
     ]
    }
   ],
   "source": [
    "cc= c**2\n",
    "print(cc)"
   ]
  },
  {
   "cell_type": "code",
   "execution_count": 8,
   "id": "df2f04fb",
   "metadata": {},
   "outputs": [
    {
     "name": "stdout",
     "output_type": "stream",
     "text": [
      "[ 0.42016704 -0.90557836 -0.42818267  0.90178835]\n"
     ]
    }
   ],
   "source": [
    "# Take the sin\n",
    "sin = np.sin(c)\n",
    "print(sin)"
   ]
  },
  {
   "cell_type": "code",
   "execution_count": 9,
   "id": "633e264f",
   "metadata": {},
   "outputs": [
    {
     "name": "stdout",
     "output_type": "stream",
     "text": [
      "[ 0.79849619 -0.46377546  0.97564915  0.13691638]\n"
     ]
    }
   ],
   "source": [
    "cos = np.cos(cc)\n",
    "print(cos)"
   ]
  },
  {
   "cell_type": "code",
   "execution_count": null,
   "id": "a9cf96f3",
   "metadata": {},
   "outputs": [],
   "source": []
  }
 ],
 "metadata": {
  "kernelspec": {
   "display_name": "env",
   "language": "python",
   "name": "python3"
  },
  "language_info": {
   "codemirror_mode": {
    "name": "ipython",
    "version": 3
   },
   "file_extension": ".py",
   "mimetype": "text/x-python",
   "name": "python",
   "nbconvert_exporter": "python",
   "pygments_lexer": "ipython3",
   "version": "3.11.2"
  }
 },
 "nbformat": 4,
 "nbformat_minor": 5
}
