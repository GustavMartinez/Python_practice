{
 "cells": [
  {
   "cell_type": "code",
   "execution_count": 1,
   "id": "171b9585",
   "metadata": {},
   "outputs": [],
   "source": [
    "import numpy as np"
   ]
  },
  {
   "cell_type": "markdown",
   "id": "00910087",
   "metadata": {},
   "source": [
    "# Random numbers"
   ]
  },
  {
   "cell_type": "code",
   "execution_count": 3,
   "id": "f8939f3a",
   "metadata": {},
   "outputs": [
    {
     "name": "stdout",
     "output_type": "stream",
     "text": [
      "[[[0.91059129 0.67081922 0.69876869 0.96051062]\n",
      "  [0.80291226 0.65087697 0.37747599 0.90466255]]\n",
      "\n",
      " [[0.78121731 0.82805935 0.57135911 0.43602288]\n",
      "  [0.29873948 0.45776011 0.15795723 0.01790874]]\n",
      "\n",
      " [[0.21617684 0.28235069 0.67257592 0.11252989]\n",
      "  [0.19924195 0.04612443 0.96067298 0.4962165 ]]\n",
      "\n",
      " [[0.25674781 0.96345149 0.80000535 0.92883469]\n",
      "  [0.68651021 0.70744705 0.23498234 0.50737386]]\n",
      "\n",
      " [[0.68450663 0.19948903 0.968767   0.50261822]\n",
      "  [0.83616613 0.42846528 0.22127184 0.26902133]]]\n"
     ]
    }
   ],
   "source": [
    "# random decimal numbers\n",
    "a = np.random.rand(5,2,4)\n",
    "print(a)"
   ]
  },
  {
   "cell_type": "code",
   "execution_count": 5,
   "id": "d58129e1",
   "metadata": {},
   "outputs": [
    {
     "name": "stdout",
     "output_type": "stream",
     "text": [
      "[[2 1 4]\n",
      " [5 4 0]\n",
      " [3 5 6]]\n"
     ]
    }
   ],
   "source": [
    "# Random integer numbers\n",
    "\n",
    "b = np.random.randint(7, size=(3,3))\n",
    "print(b)"
   ]
  },
  {
   "cell_type": "markdown",
   "id": "84f1c2e6",
   "metadata": {},
   "source": [
    "# Identity matrix"
   ]
  },
  {
   "cell_type": "code",
   "execution_count": 6,
   "id": "742ff97a",
   "metadata": {},
   "outputs": [
    {
     "name": "stdout",
     "output_type": "stream",
     "text": [
      "[[1. 0. 0. 0. 0.]\n",
      " [0. 1. 0. 0. 0.]\n",
      " [0. 0. 1. 0. 0.]\n",
      " [0. 0. 0. 1. 0.]\n",
      " [0. 0. 0. 0. 1.]]\n"
     ]
    }
   ],
   "source": [
    "c = np.identity(5)\n",
    "print(c)"
   ]
  },
  {
   "cell_type": "code",
   "execution_count": 10,
   "id": "8709e00e",
   "metadata": {},
   "outputs": [
    {
     "name": "stdout",
     "output_type": "stream",
     "text": [
      "[[1 2 3]\n",
      " [1 2 3]\n",
      " [1 2 3]\n",
      " [1 2 3]]\n"
     ]
    }
   ],
   "source": [
    "arr = np.array([[1,2,3]])\n",
    "r1 = np.repeat(arr, 4, axis=0)\n",
    "print(r1)"
   ]
  },
  {
   "cell_type": "code",
   "execution_count": 13,
   "id": "e84a491e",
   "metadata": {},
   "outputs": [
    {
     "name": "stdout",
     "output_type": "stream",
     "text": [
      "[[1. 1. 1. 1. 1.]\n",
      " [1. 0. 0. 0. 1.]\n",
      " [1. 0. 9. 0. 1.]\n",
      " [1. 0. 0. 0. 1.]\n",
      " [1. 1. 1. 1. 1.]]\n"
     ]
    }
   ],
   "source": [
    "output = np.ones((5,5))\n",
    "#print(output)\n",
    "\n",
    "z = np.zeros((3,3))\n",
    "z[1,1] = 9\n",
    "\n",
    "output[1:4, 1:4] = z\n",
    "print(output)"
   ]
  }
 ],
 "metadata": {
  "kernelspec": {
   "display_name": "env",
   "language": "python",
   "name": "python3"
  },
  "language_info": {
   "codemirror_mode": {
    "name": "ipython",
    "version": 3
   },
   "file_extension": ".py",
   "mimetype": "text/x-python",
   "name": "python",
   "nbconvert_exporter": "python",
   "pygments_lexer": "ipython3",
   "version": "3.11.2"
  }
 },
 "nbformat": 4,
 "nbformat_minor": 5
}
