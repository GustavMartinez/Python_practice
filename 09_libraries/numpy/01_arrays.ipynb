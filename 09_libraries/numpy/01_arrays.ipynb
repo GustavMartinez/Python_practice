{
 "cells": [
  {
   "cell_type": "markdown",
   "id": "255aa885",
   "metadata": {},
   "source": [
    "# Numpy Arrays"
   ]
  },
  {
   "cell_type": "code",
   "execution_count": 7,
   "id": "9219b5ca",
   "metadata": {},
   "outputs": [],
   "source": [
    "# multidimensional array library\n",
    "\n",
    "import numpy as np"
   ]
  },
  {
   "cell_type": "code",
   "execution_count": null,
   "id": "9ed36851",
   "metadata": {},
   "outputs": [],
   "source": [
    "li1 = [1,2,3]\n",
    "li2 = [4,5,6]\n",
    "\n",
    "# this gives error!\n",
    "x = li1*li2\n",
    "print(x)"
   ]
  },
  {
   "cell_type": "code",
   "execution_count": null,
   "id": "d615c6d7",
   "metadata": {},
   "outputs": [
    {
     "name": "stdout",
     "output_type": "stream",
     "text": [
      "[ 3  8 15]\n"
     ]
    }
   ],
   "source": [
    "arr1 = np.array([1,2,3])\n",
    "arr2 = np.array([3,4,5])\n",
    "\n",
    "# this works! \n",
    "y = arr1 * arr2\n",
    "print(y)"
   ]
  },
  {
   "cell_type": "code",
   "execution_count": 17,
   "id": "9127b3cf",
   "metadata": {},
   "outputs": [
    {
     "name": "stdout",
     "output_type": "stream",
     "text": [
      "[[1 2 3]\n",
      " [5 5 5]]\n"
     ]
    }
   ],
   "source": [
    "# 2d arrays:\n",
    "\n",
    "d2d = np.array([[1,2,3],[5,5,5]])\n",
    "print(d2d)"
   ]
  },
  {
   "cell_type": "code",
   "execution_count": null,
   "id": "05483fcb",
   "metadata": {},
   "outputs": [
    {
     "data": {
      "text/plain": [
       "2"
      ]
     },
     "execution_count": 18,
     "metadata": {},
     "output_type": "execute_result"
    }
   ],
   "source": [
    "# Get the dimension\n",
    "# o número de eixos (ou dimensões) de um vetor é dado pelo atributo 'ndim', enquanto o número total de elementos é dado por 'size'\n",
    "\n",
    "d2d.ndim"
   ]
  },
  {
   "cell_type": "code",
   "execution_count": null,
   "id": "2d1af4dc",
   "metadata": {},
   "outputs": [
    {
     "data": {
      "text/plain": [
       "(2, 3)"
      ]
     },
     "execution_count": 19,
     "metadata": {},
     "output_type": "execute_result"
    }
   ],
   "source": [
    "# Get the shape\n",
    "# esse atributo indica a forma do vetor (no caso, o vetor é: 2,3 Ou seja: tem duas linhas e 3 colunas)\n",
    "\n",
    "d2d.shape"
   ]
  },
  {
   "cell_type": "code",
   "execution_count": null,
   "id": "81cb09c8",
   "metadata": {},
   "outputs": [
    {
     "data": {
      "text/plain": [
       "dtype('int64')"
      ]
     },
     "execution_count": 20,
     "metadata": {},
     "output_type": "execute_result"
    }
   ],
   "source": [
    "# Get Type\n",
    "# o tipo dos elementos de um ndarray pode ser acessado por meio do atributo dtype\n",
    "d2d.dtype"
   ]
  },
  {
   "cell_type": "code",
   "execution_count": null,
   "id": "261dcb75",
   "metadata": {},
   "outputs": [
    {
     "data": {
      "text/plain": [
       "dtype('int16')"
      ]
     },
     "execution_count": 23,
     "metadata": {},
     "output_type": "execute_result"
    }
   ],
   "source": [
    "# specifing the type:\n",
    "# o tipo desejado pode ser espeficicado na criação do array\n",
    "\n",
    "d3d = np.array([[1,2,3],[5,5,5]], dtype='int16')\n",
    "d3d.dtype"
   ]
  },
  {
   "cell_type": "code",
   "execution_count": null,
   "id": "5919e6f0",
   "metadata": {},
   "outputs": [
    {
     "data": {
      "text/plain": [
       "6"
      ]
     },
     "execution_count": 24,
     "metadata": {},
     "output_type": "execute_result"
    }
   ],
   "source": [
    "# Get the number of elements:\n",
    "\n",
    "d2d.size"
   ]
  },
  {
   "cell_type": "markdown",
   "id": "3f515daa",
   "metadata": {},
   "source": [
    "# Accessing/Changing specific elements, rows, columns, etc"
   ]
  },
  {
   "cell_type": "code",
   "execution_count": 25,
   "id": "28cec4ad",
   "metadata": {},
   "outputs": [
    {
     "name": "stdout",
     "output_type": "stream",
     "text": [
      "[[ 1  2  3  4  5]\n",
      " [ 6  7  8  9 10]]\n"
     ]
    }
   ],
   "source": [
    "a = np.array([[1,2,3,4,5], [6,7,8,9,10]])\n",
    "print(a)"
   ]
  },
  {
   "cell_type": "code",
   "execution_count": null,
   "id": "c2647e49",
   "metadata": {},
   "outputs": [
    {
     "name": "stdout",
     "output_type": "stream",
     "text": [
      "10\n",
      "3\n",
      "[2 3 4]\n",
      "[ 6  7  8  9 10]\n"
     ]
    }
   ],
   "source": [
    "# Get a specific element(s) [row, column]\n",
    "print(a[1,4])\n",
    "print(a[0,2])\n",
    "print(a[0][1:4])\n",
    "print(a[1, :])"
   ]
  },
  {
   "cell_type": "code",
   "execution_count": 39,
   "id": "4eee2535",
   "metadata": {},
   "outputs": [
    {
     "name": "stdout",
     "output_type": "stream",
     "text": [
      "[3 8]\n"
     ]
    }
   ],
   "source": [
    "# Get elements (s) [row, column]\n",
    "\n",
    "print(a[:, 2])"
   ]
  },
  {
   "cell_type": "code",
   "execution_count": 40,
   "id": "aed299c6",
   "metadata": {},
   "outputs": [
    {
     "name": "stdout",
     "output_type": "stream",
     "text": [
      "[[ 1  2  3  4  5]\n",
      " [ 6  7  8  9 50]]\n"
     ]
    }
   ],
   "source": [
    "a[1,4] = 50\n",
    "print(a)"
   ]
  },
  {
   "cell_type": "code",
   "execution_count": 44,
   "id": "7e6c278e",
   "metadata": {},
   "outputs": [
    {
     "name": "stdout",
     "output_type": "stream",
     "text": [
      "(2, 2, 2)\n",
      "3\n",
      "int64\n",
      "[[[1 2]\n",
      "  [3 4]]\n",
      "\n",
      " [[5 6]\n",
      "  [7 8]]]\n"
     ]
    }
   ],
   "source": [
    "# 3d array:\n",
    "\n",
    "arr3d = np.array([[[1,2],[3,4]], [[5,6],[7,8]]])\n",
    "print(arr3d.shape)\n",
    "print(arr3d.ndim)\n",
    "print(arr3d.dtype)\n",
    "print(arr3d)"
   ]
  },
  {
   "cell_type": "code",
   "execution_count": 46,
   "id": "239a194d",
   "metadata": {},
   "outputs": [
    {
     "name": "stdout",
     "output_type": "stream",
     "text": [
      "4\n"
     ]
    }
   ],
   "source": [
    "# Get specific element (work outside in)\n",
    "\n",
    "print(arr3d[0,1,1])"
   ]
  },
  {
   "cell_type": "code",
   "execution_count": 47,
   "id": "c0a3afa5",
   "metadata": {},
   "outputs": [
    {
     "name": "stdout",
     "output_type": "stream",
     "text": [
      "[[[ 1  2]\n",
      "  [ 3 30]]\n",
      "\n",
      " [[ 5  6]\n",
      "  [ 7  8]]]\n"
     ]
    }
   ],
   "source": [
    "arr3d[0,1,1] = 30\n",
    "print(arr3d)"
   ]
  }
 ],
 "metadata": {
  "kernelspec": {
   "display_name": "env",
   "language": "python",
   "name": "python3"
  },
  "language_info": {
   "codemirror_mode": {
    "name": "ipython",
    "version": 3
   },
   "file_extension": ".py",
   "mimetype": "text/x-python",
   "name": "python",
   "nbconvert_exporter": "python",
   "pygments_lexer": "ipython3",
   "version": "3.11.2"
  }
 },
 "nbformat": 4,
 "nbformat_minor": 5
}
