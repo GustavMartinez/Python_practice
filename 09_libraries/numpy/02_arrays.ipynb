{
 "cells": [
  {
   "cell_type": "code",
   "execution_count": 1,
   "id": "2f43ad33",
   "metadata": {},
   "outputs": [],
   "source": [
    "import numpy as np"
   ]
  },
  {
   "cell_type": "markdown",
   "id": "eb2d67be",
   "metadata": {},
   "source": [
    "# Initializing different types of arrays"
   ]
  },
  {
   "cell_type": "markdown",
   "id": "d3b102db",
   "metadata": {},
   "source": [
    "## All 0s matrix"
   ]
  },
  {
   "cell_type": "code",
   "execution_count": 2,
   "id": "f4ef17b0",
   "metadata": {},
   "outputs": [
    {
     "name": "stdout",
     "output_type": "stream",
     "text": [
      "[[0. 0. 0.]\n",
      " [0. 0. 0.]]\n"
     ]
    }
   ],
   "source": [
    "# All 0s matrix\n",
    "\n",
    "a = np.zeros((2,3)) # specifing the shape\n",
    "print(a)"
   ]
  },
  {
   "cell_type": "code",
   "execution_count": 3,
   "id": "c7c60f2b",
   "metadata": {},
   "outputs": [
    {
     "name": "stdout",
     "output_type": "stream",
     "text": [
      "[[[[0. 0.]\n",
      "   [0. 0.]\n",
      "   [0. 0.]]\n",
      "\n",
      "  [[0. 0.]\n",
      "   [0. 0.]\n",
      "   [0. 0.]]\n",
      "\n",
      "  [[0. 0.]\n",
      "   [0. 0.]\n",
      "   [0. 0.]]]\n",
      "\n",
      "\n",
      " [[[0. 0.]\n",
      "   [0. 0.]\n",
      "   [0. 0.]]\n",
      "\n",
      "  [[0. 0.]\n",
      "   [0. 0.]\n",
      "   [0. 0.]]\n",
      "\n",
      "  [[0. 0.]\n",
      "   [0. 0.]\n",
      "   [0. 0.]]]]\n"
     ]
    }
   ],
   "source": [
    "b = np.zeros((2,3,3,2))\n",
    "print(b)"
   ]
  },
  {
   "cell_type": "code",
   "execution_count": 4,
   "id": "09a39708",
   "metadata": {},
   "outputs": [
    {
     "data": {
      "text/plain": [
       "4"
      ]
     },
     "execution_count": 4,
     "metadata": {},
     "output_type": "execute_result"
    }
   ],
   "source": [
    "b.ndim"
   ]
  },
  {
   "cell_type": "markdown",
   "id": "ff7d9d12",
   "metadata": {},
   "source": [
    "## All 1s matrix"
   ]
  },
  {
   "cell_type": "code",
   "execution_count": 5,
   "id": "ecc692c8",
   "metadata": {},
   "outputs": [
    {
     "name": "stdout",
     "output_type": "stream",
     "text": [
      "[[1. 1. 1. 1.]\n",
      " [1. 1. 1. 1.]]\n"
     ]
    }
   ],
   "source": [
    "c = np.ones((2,4))\n",
    "print(c)"
   ]
  },
  {
   "cell_type": "markdown",
   "id": "755d9eec",
   "metadata": {},
   "source": [
    "# Any other number"
   ]
  },
  {
   "cell_type": "code",
   "execution_count": 6,
   "id": "b8a65345",
   "metadata": {},
   "outputs": [
    {
     "name": "stdout",
     "output_type": "stream",
     "text": [
      "[[[99 99 99]\n",
      "  [99 99 99]]\n",
      "\n",
      " [[99 99 99]\n",
      "  [99 99 99]]]\n"
     ]
    }
   ],
   "source": [
    "d = np.full((2,2,3), 99)\n",
    "print(d)"
   ]
  },
  {
   "cell_type": "code",
   "execution_count": 7,
   "id": "1e2b10b0",
   "metadata": {},
   "outputs": [
    {
     "name": "stdout",
     "output_type": "stream",
     "text": [
      "[[4. 4. 4.]\n",
      " [4. 4. 4.]]\n"
     ]
    }
   ],
   "source": [
    "# Any other number (full_like)\n",
    "\n",
    "e = np.full_like(a, 4)\n",
    "print(e)"
   ]
  },
  {
   "cell_type": "markdown",
   "id": "452472c7",
   "metadata": {},
   "source": [
    "# função diag"
   ]
  },
  {
   "cell_type": "code",
   "execution_count": 9,
   "id": "1bdf4d8c",
   "metadata": {},
   "outputs": [
    {
     "name": "stdout",
     "output_type": "stream",
     "text": [
      "[[10  0  0  0]\n",
      " [ 0 10  0  0]\n",
      " [ 0  0 10  0]\n",
      " [ 0  0  0 10]]\n"
     ]
    }
   ],
   "source": [
    "f = np.diag([10,10,10,10])\n",
    "print(f)"
   ]
  },
  {
   "cell_type": "markdown",
   "id": "376ea451",
   "metadata": {},
   "source": [
    "# função arange"
   ]
  },
  {
   "cell_type": "code",
   "execution_count": 10,
   "id": "466746de",
   "metadata": {},
   "outputs": [
    {
     "name": "stdout",
     "output_type": "stream",
     "text": [
      "[0 1 2 3 4]\n"
     ]
    }
   ],
   "source": [
    "g = np.arange(0,5)\n",
    "print(g)"
   ]
  },
  {
   "cell_type": "code",
   "execution_count": 11,
   "id": "7e21dcbc",
   "metadata": {},
   "outputs": [
    {
     "name": "stdout",
     "output_type": "stream",
     "text": [
      "[0 2 4]\n"
     ]
    }
   ],
   "source": [
    "h = np.arange(0,6,2)\n",
    "print(h)"
   ]
  },
  {
   "cell_type": "markdown",
   "id": "49f86114",
   "metadata": {},
   "source": [
    "# função linspace"
   ]
  },
  {
   "cell_type": "code",
   "execution_count": 12,
   "id": "676d70af",
   "metadata": {},
   "outputs": [
    {
     "name": "stdout",
     "output_type": "stream",
     "text": [
      "[0.         0.55555556 1.11111111 1.66666667 2.22222222 2.77777778\n",
      " 3.33333333 3.88888889 4.44444444 5.        ]\n"
     ]
    }
   ],
   "source": [
    "i = np.linspace(0,5,10)\n",
    "print(i)"
   ]
  }
 ],
 "metadata": {
  "kernelspec": {
   "display_name": "env",
   "language": "python",
   "name": "python3"
  },
  "language_info": {
   "codemirror_mode": {
    "name": "ipython",
    "version": 3
   },
   "file_extension": ".py",
   "mimetype": "text/x-python",
   "name": "python",
   "nbconvert_exporter": "python",
   "pygments_lexer": "ipython3",
   "version": "3.11.2"
  }
 },
 "nbformat": 4,
 "nbformat_minor": 5
}
