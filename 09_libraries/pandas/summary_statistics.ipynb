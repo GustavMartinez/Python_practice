{
 "cells": [
  {
   "cell_type": "code",
   "execution_count": 1,
   "id": "e36dd08e",
   "metadata": {},
   "outputs": [],
   "source": [
    "import pandas as pd"
   ]
  },
  {
   "cell_type": "code",
   "execution_count": 8,
   "id": "ee5024da",
   "metadata": {},
   "outputs": [
    {
     "data": {
      "text/html": [
       "<div>\n",
       "<style scoped>\n",
       "    .dataframe tbody tr th:only-of-type {\n",
       "        vertical-align: middle;\n",
       "    }\n",
       "\n",
       "    .dataframe tbody tr th {\n",
       "        vertical-align: top;\n",
       "    }\n",
       "\n",
       "    .dataframe thead th {\n",
       "        text-align: right;\n",
       "    }\n",
       "</style>\n",
       "<table border=\"1\" class=\"dataframe\">\n",
       "  <thead>\n",
       "    <tr style=\"text-align: right;\">\n",
       "      <th></th>\n",
       "      <th>country</th>\n",
       "      <th>year</th>\n",
       "      <th>population</th>\n",
       "      <th>cont</th>\n",
       "      <th>life_exp</th>\n",
       "      <th>gdp_cap</th>\n",
       "    </tr>\n",
       "  </thead>\n",
       "  <tbody>\n",
       "    <tr>\n",
       "      <th>11</th>\n",
       "      <td>Afghanistan</td>\n",
       "      <td>2007</td>\n",
       "      <td>31889923.0</td>\n",
       "      <td>Asia</td>\n",
       "      <td>43.828</td>\n",
       "      <td>974.580338</td>\n",
       "    </tr>\n",
       "    <tr>\n",
       "      <th>23</th>\n",
       "      <td>Albania</td>\n",
       "      <td>2007</td>\n",
       "      <td>3600523.0</td>\n",
       "      <td>Europe</td>\n",
       "      <td>76.423</td>\n",
       "      <td>5937.029526</td>\n",
       "    </tr>\n",
       "    <tr>\n",
       "      <th>35</th>\n",
       "      <td>Algeria</td>\n",
       "      <td>2007</td>\n",
       "      <td>33333216.0</td>\n",
       "      <td>Africa</td>\n",
       "      <td>72.301</td>\n",
       "      <td>6223.367465</td>\n",
       "    </tr>\n",
       "  </tbody>\n",
       "</table>\n",
       "</div>"
      ],
      "text/plain": [
       "        country  year  population    cont  life_exp      gdp_cap\n",
       "11  Afghanistan  2007  31889923.0    Asia    43.828   974.580338\n",
       "23      Albania  2007   3600523.0  Europe    76.423  5937.029526\n",
       "35      Algeria  2007  33333216.0  Africa    72.301  6223.367465"
      ]
     },
     "execution_count": 8,
     "metadata": {},
     "output_type": "execute_result"
    }
   ],
   "source": [
    "PATH_DATA = '/home/gustavo/Documents/Study/005_Python_General/github/python_practice/09_libraries/00_data/gapminder.csv'\n",
    "\n",
    "df = pd.read_csv(PATH_DATA, delimiter=',', index_col=0)\n",
    "df.head(3)"
   ]
  },
  {
   "cell_type": "markdown",
   "id": "7240efbb",
   "metadata": {},
   "source": [
    "## Summary statistics. life_exp"
   ]
  },
  {
   "cell_type": "code",
   "execution_count": 5,
   "id": "7bf236d0",
   "metadata": {},
   "outputs": [
    {
     "name": "stdout",
     "output_type": "stream",
     "text": [
      "71.93549999999999\n"
     ]
    }
   ],
   "source": [
    "median = df['life_exp'].median()\n",
    "print(median)"
   ]
  },
  {
   "cell_type": "code",
   "execution_count": 6,
   "id": "a4066a57",
   "metadata": {},
   "outputs": [
    {
     "name": "stdout",
     "output_type": "stream",
     "text": [
      "82.603\n"
     ]
    }
   ],
   "source": [
    "maximum = df['life_exp'].max()\n",
    "print(maximum)"
   ]
  },
  {
   "cell_type": "code",
   "execution_count": 7,
   "id": "3ad0f81e",
   "metadata": {},
   "outputs": [
    {
     "name": "stdout",
     "output_type": "stream",
     "text": [
      "39.613\n"
     ]
    }
   ],
   "source": [
    "minimum = df['life_exp'].min()\n",
    "print(minimum)"
   ]
  },
  {
   "cell_type": "code",
   "execution_count": 10,
   "id": "91a8f83d",
   "metadata": {},
   "outputs": [
    {
     "name": "stdout",
     "output_type": "stream",
     "text": [
      "67.00742253521126\n"
     ]
    }
   ],
   "source": [
    "mean = df['life_exp'].mean()\n",
    "print(mean)"
   ]
  },
  {
   "cell_type": "markdown",
   "id": "e904c62e",
   "metadata": {},
   "source": [
    "### Cumulative statistics"
   ]
  },
  {
   "cell_type": "code",
   "execution_count": 11,
   "id": "c8191e22",
   "metadata": {},
   "outputs": [
    {
     "data": {
      "text/plain": [
       "11      3.188992e+07\n",
       "23      3.549045e+07\n",
       "35      6.882366e+07\n",
       "47      8.124414e+07\n",
       "59      1.215461e+08\n",
       "            ...     \n",
       "1655    6.200726e+09\n",
       "1667    6.204744e+09\n",
       "1679    6.226956e+09\n",
       "1691    6.238702e+09\n",
       "1703    6.251013e+09\n",
       "Name: population, Length: 142, dtype: float64"
      ]
     },
     "execution_count": 11,
     "metadata": {},
     "output_type": "execute_result"
    }
   ],
   "source": [
    "# cumulative sum: .cumsum()\n",
    "\n",
    "df['population'].cumsum()"
   ]
  },
  {
   "cell_type": "code",
   "execution_count": 12,
   "id": "f82680f9",
   "metadata": {},
   "outputs": [
    {
     "data": {
      "text/plain": [
       "11      3.188992e+07\n",
       "23      3.188992e+07\n",
       "35      3.333322e+07\n",
       "47      3.333322e+07\n",
       "59      4.030193e+07\n",
       "            ...     \n",
       "1655    1.318683e+09\n",
       "1667    1.318683e+09\n",
       "1679    1.318683e+09\n",
       "1691    1.318683e+09\n",
       "1703    1.318683e+09\n",
       "Name: population, Length: 142, dtype: float64"
      ]
     },
     "execution_count": 12,
     "metadata": {},
     "output_type": "execute_result"
    }
   ],
   "source": [
    "df['population'].cummax()"
   ]
  },
  {
   "cell_type": "code",
   "execution_count": 13,
   "id": "18478837",
   "metadata": {},
   "outputs": [
    {
     "data": {
      "text/plain": [
       "11      31889923.0\n",
       "23       3600523.0\n",
       "35       3600523.0\n",
       "47       3600523.0\n",
       "59       3600523.0\n",
       "           ...    \n",
       "1655      199579.0\n",
       "1667      199579.0\n",
       "1679      199579.0\n",
       "1691      199579.0\n",
       "1703      199579.0\n",
       "Name: population, Length: 142, dtype: float64"
      ]
     },
     "execution_count": 13,
     "metadata": {},
     "output_type": "execute_result"
    }
   ],
   "source": [
    "df['population'].cummin()"
   ]
  },
  {
   "cell_type": "code",
   "execution_count": null,
   "id": "6003675e",
   "metadata": {},
   "outputs": [],
   "source": []
  }
 ],
 "metadata": {
  "kernelspec": {
   "display_name": "env",
   "language": "python",
   "name": "python3"
  },
  "language_info": {
   "codemirror_mode": {
    "name": "ipython",
    "version": 3
   },
   "file_extension": ".py",
   "mimetype": "text/x-python",
   "name": "python",
   "nbconvert_exporter": "python",
   "pygments_lexer": "ipython3",
   "version": "3.11.2"
  }
 },
 "nbformat": 4,
 "nbformat_minor": 5
}
